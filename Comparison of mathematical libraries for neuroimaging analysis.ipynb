{
 "cells": [
  {
   "cell_type": "markdown",
   "metadata": {},
   "source": [
    "# Objectives\n",
    "\n",
    "* Compare mathematical libraries in the context of neuroimaging pipelines\n",
    "* Should one particular library be recommended?"
   ]
  },
  {
   "cell_type": "markdown",
   "metadata": {},
   "source": [
    "# Methods\n",
    "\n",
    "* Installed [musl libc](https://www.musl-libc.org), [openlibm](https://github.com/JuliaMath/openlibm) version 0.7.0 and 0.7.5, [Intel oneAPI Base Toolkit](https://software.intel.com/content/www/us/en/develop/tools/oneapi/base-toolkit/download.html#gs.zgfmhs), and [GNU MPFR](https://www.mpfr.org) in a Ubuntu 20 (glibc 2.31) container ([Dockerfile](https://github.com/glatard/manymaths/blob/main/Dockerfile)).\n",
    "* Preloaded [math wrappers](https://github.com/glatard/manymaths/blob/main/wrap/wrap.c) of each library such that applications can use them transparently (no recompilation). MPFR was enabled using a different but similar [wrapper](https://github.com/glatard/manymaths/blob/main/wrap/wrap-mpfr.c).\n",
    "* Installed [HCP minimal pre-processing pipelines](https://github.com/Washington-University/HCPpipelines) in this environment ([Dockerfile](https://github.com/glatard/manymaths/blob/main/Dockerfile.pfs)).\n",
    "* Repeated the processing of 1 subject with each library."
   ]
  },
  {
   "cell_type": "markdown",
   "metadata": {},
   "source": [
    "# Results\n",
    "\n",
    "Results are compared on the main pipeline output: spatial normalization of T1 image in MNI space. "
   ]
  },
  {
   "cell_type": "code",
   "execution_count": 1,
   "metadata": {},
   "outputs": [],
   "source": [
    "import os\n",
    "data_dir = os.path.join(os.getenv('HOME'), 'data', 'manymaths')\n",
    "lib_versions = ['glibc-v2.31', 'musl-v1.1.24-1', 'openlibm-v0.7.0', 'openlibm-v0.7.5', 'intel-v2021.2.0', 'mpfr']\n",
    "subjects = ['101309']\n",
    "files = [ os.path.join(data_dir, lib_version, subject, 'MNINonLinear', 'T1w.nii.gz')\n",
    "                    for lib_version in lib_versions for subject in subjects ]"
   ]
  },
  {
   "cell_type": "code",
   "execution_count": 2,
   "metadata": {
    "scrolled": false
   },
   "outputs": [
    {
     "data": {
      "text/plain": [
       "['14e8cf608284cd6fcbe22fdc578e6090',\n",
       " 'ade2e5455d8c601774f014eb1fb17f4d',\n",
       " '855bbc3de4332cfb7ca254a08ab380a4',\n",
       " '855bbc3de4332cfb7ca254a08ab380a4',\n",
       " 'e7314b3703cde99f7cb7107837889c10',\n",
       " 'e891000774953150b4a5b141f0eb6141']"
      ]
     },
     "execution_count": 2,
     "metadata": {},
     "output_type": "execute_result"
    }
   ],
   "source": [
    "import hashlib\n",
    "hashes = [ hashlib.md5(open(filename,'rb').read()).hexdigest() for filename in files]\n",
    "hashes"
   ]
  },
  {
   "cell_type": "markdown",
   "metadata": {},
   "source": [
    "All the results are different, except for the results obtained with the two openlibm versions.\n",
    "\n",
    "Let's exclude the oldest openlibm version:"
   ]
  },
  {
   "cell_type": "code",
   "execution_count": 3,
   "metadata": {},
   "outputs": [],
   "source": [
    "lib_versions = [ lv for lv in lib_versions if lv != 'openlibm-v0.7.0' ]\n",
    "files = [ os.path.join(data_dir, lib_version, subject, 'MNINonLinear', 'T1w.nii.gz')\n",
    "                    for lib_version in lib_versions for subject in subjects ]"
   ]
  },
  {
   "cell_type": "markdown",
   "metadata": {},
   "source": [
    "## Comparison to MPFR"
   ]
  },
  {
   "cell_type": "markdown",
   "metadata": {},
   "source": [
    "Which library is closest to MPFR?"
   ]
  },
  {
   "cell_type": "markdown",
   "metadata": {},
   "source": [
    "Let's mask the images to discard the background:"
   ]
  },
  {
   "cell_type": "code",
   "execution_count": 4,
   "metadata": {},
   "outputs": [],
   "source": [
    "import nibabel as nib\n",
    "\n",
    "# Load mask\n",
    "mask_img = os.path.join(data_dir, \"MNI152_T1_0.7mm_fg_mask.nii.gz\")\n",
    "mask_img = nib.load(mask_img)\n",
    "mask_img_dat = mask_img.get_fdata()\n",
    "mask_locs = mask_img_dat > 0"
   ]
  },
  {
   "cell_type": "code",
   "execution_count": 5,
   "metadata": {},
   "outputs": [],
   "source": [
    "import numpy as np\n",
    "\n",
    "# Load (masked) image data\n",
    "T1_flat = np.array([nib.load(file).get_fdata()[mask_locs].flatten() for file in files])"
   ]
  },
  {
   "cell_type": "code",
   "execution_count": 6,
   "metadata": {},
   "outputs": [
    {
     "data": {
      "text/plain": [
       "(5, 9910560)"
      ]
     },
     "execution_count": 6,
     "metadata": {},
     "output_type": "execute_result"
    }
   ],
   "source": [
    "# T1s is an array of shape (n, m) where n is the number of images to cluster \n",
    "# and m is the number of foreground voxels per image\n",
    "np.shape(T1_flat)"
   ]
  },
  {
   "cell_type": "markdown",
   "metadata": {},
   "source": [
    "We will use the RMSE as image distance:"
   ]
  },
  {
   "cell_type": "code",
   "execution_count": 7,
   "metadata": {},
   "outputs": [],
   "source": [
    "def rmse(data1, data2):\n",
    "    return np.sqrt(np.mean((data1-data2)**2, dtype=np.float64), dtype=np.float64)"
   ]
  },
  {
   "cell_type": "markdown",
   "metadata": {},
   "source": [
    "Distance between MPFR and the other libraries:"
   ]
  },
  {
   "cell_type": "code",
   "execution_count": 8,
   "metadata": {},
   "outputs": [
    {
     "data": {
      "text/plain": [
       "[('intel-v2021.2.0', 20.65),\n",
       " ('openlibm-v0.7.5', 21.88),\n",
       " ('glibc-v2.31', 22.67),\n",
       " ('musl-v1.1.24-1', 27.21)]"
      ]
     },
     "execution_count": 8,
     "metadata": {},
     "output_type": "execute_result"
    }
   ],
   "source": [
    "mpfr_ind = lib_versions.index(\"mpfr\")\n",
    "rmses = [ (lib_versions[i], round(rmse(T1_flat[i], T1_flat[mpfr_ind]),2))\n",
    "           for i in range(len(lib_versions)) if i!=mpfr_ind ]\n",
    "sorted(rmses, key=lambda x: x[1])"
   ]
  },
  {
   "cell_type": "markdown",
   "metadata": {},
   "source": [
    "Intel's results are the closest to MPFR's, followed by openlibm, glibc and finally musl."
   ]
  },
  {
   "cell_type": "markdown",
   "metadata": {},
   "source": [
    "## Clustering"
   ]
  },
  {
   "cell_type": "markdown",
   "metadata": {},
   "source": [
    "How similar are results obtained with different libraries?"
   ]
  },
  {
   "cell_type": "markdown",
   "metadata": {},
   "source": [
    "Let's use scipy's hierarchical clustering:"
   ]
  },
  {
   "cell_type": "code",
   "execution_count": 9,
   "metadata": {},
   "outputs": [
    {
     "data": {
      "text/plain": [
       "array([19.68441796, 18.7087812 , 15.75948343, 22.67146974, 22.50715437,\n",
       "       18.43772268, 27.20787327, 20.94443229, 21.87535609, 20.64520372])"
      ]
     },
     "execution_count": 9,
     "metadata": {},
     "output_type": "execute_result"
    }
   ],
   "source": [
    "import scipy\n",
    "import scipy.spatial\n",
    "\n",
    "# Compute dense 1D distance matrix\n",
    "distance_mat = scipy.spatial.distance.pdist(T1_flat, metric=rmse)\n",
    "distance_mat"
   ]
  },
  {
   "cell_type": "code",
   "execution_count": 10,
   "metadata": {},
   "outputs": [
    {
     "data": {
      "text/plain": [
       "20.84418947484328"
      ]
     },
     "execution_count": 10,
     "metadata": {},
     "output_type": "execute_result"
    }
   ],
   "source": [
    "np.mean(distance_mat)"
   ]
  },
  {
   "cell_type": "markdown",
   "metadata": {},
   "source": [
    "The mean RMSE between results obtained in different libraries is consistent with the one previously observed between different versions of glibc."
   ]
  },
  {
   "cell_type": "markdown",
   "metadata": {},
   "source": [
    "Let's now cluster the results using [hierarchical clustering]((https://docs.scipy.org/doc/scipy/reference/generated/scipy.cluster.hierarchy.linkage.html):"
   ]
  },
  {
   "cell_type": "code",
   "execution_count": 11,
   "metadata": {},
   "outputs": [],
   "source": [
    "# Hierarchical clustering\n",
    "from scipy.cluster import hierarchy\n",
    "Z = hierarchy.linkage(distance_mat, 'average')"
   ]
  },
  {
   "cell_type": "code",
   "execution_count": 12,
   "metadata": {
    "scrolled": false
   },
   "outputs": [
    {
     "data": {
      "image/png": "[encoded data removed]",
      "text/plain": [
       "<Figure size 432x288 with 1 Axes>"
      ]
     },
     "metadata": {
      "needs_background": "light"
     },
     "output_type": "display_data"
    }
   ],
   "source": [
    "# Plot dendrogram\n",
    "from matplotlib import pyplot as plt\n",
    "import matplotlib.colors as mcolors\n",
    "\n",
    "fig, ax = plt.subplots(1)\n",
    "ax.set_ylabel(\"RMSE\")\n",
    "colors = list(mcolors.TABLEAU_COLORS)\n",
    "hierarchy.dendrogram(Z, labels=lib_versions, leaf_rotation=90, link_color_func=lambda k: colors[k], ax=ax)\n",
    "plt.show()"
   ]
  },
  {
   "cell_type": "markdown",
   "metadata": {},
   "source": [
    "**Notes**\n",
    "\n",
    "* MPFR stands out from the other libraries\n",
    "* glibc and intel are the most similar results"
   ]
  },
  {
   "cell_type": "markdown",
   "metadata": {},
   "source": [
    "## Visualization"
   ]
  },
  {
   "cell_type": "markdown",
   "metadata": {},
   "source": [
    "Are the differences localized spatially?"
   ]
  },
  {
   "cell_type": "code",
   "execution_count": null,
   "metadata": {},
   "outputs": [
    {
     "name": "stderr",
     "output_type": "stream",
     "text": [
      "/home/glatard/code/imcomp/venv/lib/python3.8/site-packages/nilearn/datasets/__init__.py:87: FutureWarning: Fetchers from the nilearn.datasets module will be updated in version 0.9 to return python strings instead of bytes and Pandas dataframes instead of Numpy arrays.\n",
      "  warn(\"Fetchers from the nilearn.datasets module will be \"\n",
      "<ipython-input-13-e6f57bd05ab4>:21: RuntimeWarning: invalid value encountered in true_divide\n",
      "  data = (data1-data2)/(data1)\n",
      "/home/glatard/code/imcomp/venv/lib/python3.8/site-packages/nilearn/_utils/niimg.py:61: UserWarning: Non-finite values detected. These values will be replaced with zeros.\n",
      "  warn(\n",
      "/home/glatard/code/imcomp/venv/lib/python3.8/site-packages/nilearn/plotting/displays.py:101: MatplotlibDeprecationWarning: Passing parameters norm and vmin/vmax simultaneously is deprecated since 3.3 and will become an error two minor releases later. Please pass vmin/vmax directly to the norm when creating it.\n",
      "  im = getattr(ax, type)(data_2d.copy(),\n"
     ]
    }
   ],
   "source": [
    "import matplotlib\n",
    "import nilearn.plotting as nilp\n",
    "import matplotlib.cm as cm\n",
    "from matplotlib import pyplot as plt\n",
    "import matplotlib.colors as colors\n",
    "\n",
    "matplotlib.rcParams.update({'font.size': 20})\n",
    "\n",
    "T1_data = [nib.load(os.path.join(data_dir, lib_version, subject, 'MNINonLinear', 'T1w.nii.gz'))\n",
    "                    for lib_version in lib_versions for subject in subjects ]\n",
    "\n",
    "\n",
    "fig, axs = plt.subplots(len(T1_data)-1, len(T1_data)-1, figsize=(40,40))\n",
    "\n",
    "for i in range(len(T1_data)-1):\n",
    "    for j in range(i+1, len(T1_data)):\n",
    "        im1 = T1_data[i]\n",
    "        data1 = im1.get_fdata()*mask_img_dat\n",
    "        im2 = T1_data[j]\n",
    "        data2 = im2.get_fdata()*mask_img_dat\n",
    "        data = (data1-data2)/(data1)\n",
    "        rel_diff = nib.Nifti1Image(data, im1.affine)\n",
    "        axs[i, j-1].set_title(lib_versions[i]+\" VS \"+lib_versions[j])\n",
    "        im = nilp.plot_img(rel_diff, cmap=cm.seismic, norm=colors.SymLogNorm(vmin=-1, vmax=1,\n",
    "                                                                        linthresh=0.03, linscale=0.03,\n",
    "                                                                        base=10),\n",
    "                      cut_coords=(0,),\n",
    "                      colorbar=True, draw_cross=False, display_mode='z', vmin=-1, vmax=1,\n",
    "                      axes=axs[i, j-1])\n",
    "\n",
    "plt.show()"
   ]
  },
  {
   "cell_type": "markdown",
   "metadata": {},
   "source": [
    "**Notes**\n",
    "\n",
    "MPFR results are very different from the other ones indeed.\n",
    "\n",
    "\n",
    "A spatial dependency of numerical differences is observed in the brain. For instance, openlibm differs from the other libraries in the occipital lobe, and intel is singular in the frontal lobe. \n",
    "\n",
    "While it would be surprising that the spatial localization of such differences be consisent across subjects, it suggests that numerical libraries might be converging to different local minima during non linear registration."
   ]
  },
  {
   "cell_type": "markdown",
   "metadata": {},
   "source": [
    "# Future work\n",
    "\n",
    "## Next\n",
    "* Process more subjects\n",
    "\n",
    "## Later\n",
    "* Measure numerical precision of the pipeline for each library using MCA\n",
    "* Measure imaging quality of the pipeline for each library by visual QC\n",
    "* Measure \"biological\" performance of the pipeline for each library using age regression"
   ]
  }
 ],
 "metadata": {
  "kernelspec": {
   "display_name": "Python 3",
   "language": "python",
   "name": "python3"
  },
  "language_info": {
   "codemirror_mode": {
    "name": "ipython",
    "version": 3
   },
   "file_extension": ".py",
   "mimetype": "text/x-python",
   "name": "python",
   "nbconvert_exporter": "python",
   "pygments_lexer": "ipython3",
   "version": "3.8.7"
  },
  "toc": {
   "base_numbering": 1,
   "nav_menu": {},
   "number_sections": true,
   "sideBar": true,
   "skip_h1_title": false,
   "title_cell": "Table of Contents",
   "title_sidebar": "Contents",
   "toc_cell": false,
   "toc_position": {},
   "toc_section_display": true,
   "toc_window_display": false
  }
 },
 "nbformat": 4,
 "nbformat_minor": 4
}
